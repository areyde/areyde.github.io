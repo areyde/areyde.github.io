{
 "cells": [
  {
   "cell_type": "code",
   "execution_count": 115,
   "id": "e567dfca-3312-4c7e-95d1-839a794f9cc4",
   "metadata": {},
   "outputs": [
    {
     "name": "stdout",
     "output_type": "stream",
     "text": [
      "Requirement already satisfied: folium in c:\\users\\yaroslav.golubev\\anaconda3\\lib\\site-packages (0.16.0)\n",
      "Requirement already satisfied: branca>=0.6.0 in c:\\users\\yaroslav.golubev\\anaconda3\\lib\\site-packages (from folium) (0.7.2)\n",
      "Requirement already satisfied: jinja2>=2.9 in c:\\users\\yaroslav.golubev\\anaconda3\\lib\\site-packages (from folium) (3.1.3)\n",
      "Requirement already satisfied: numpy in c:\\users\\yaroslav.golubev\\anaconda3\\lib\\site-packages (from folium) (1.26.4)\n",
      "Requirement already satisfied: requests in c:\\users\\yaroslav.golubev\\anaconda3\\lib\\site-packages (from folium) (2.31.0)\n",
      "Requirement already satisfied: xyzservices in c:\\users\\yaroslav.golubev\\anaconda3\\lib\\site-packages (from folium) (2022.9.0)\n",
      "Requirement already satisfied: MarkupSafe>=2.0 in c:\\users\\yaroslav.golubev\\anaconda3\\lib\\site-packages (from jinja2>=2.9->folium) (2.1.3)\n",
      "Requirement already satisfied: charset-normalizer<4,>=2 in c:\\users\\yaroslav.golubev\\anaconda3\\lib\\site-packages (from requests->folium) (2.0.4)\n",
      "Requirement already satisfied: idna<4,>=2.5 in c:\\users\\yaroslav.golubev\\anaconda3\\lib\\site-packages (from requests->folium) (3.4)\n",
      "Requirement already satisfied: urllib3<3,>=1.21.1 in c:\\users\\yaroslav.golubev\\anaconda3\\lib\\site-packages (from requests->folium) (2.0.7)\n",
      "Requirement already satisfied: certifi>=2017.4.17 in c:\\users\\yaroslav.golubev\\anaconda3\\lib\\site-packages (from requests->folium) (2024.2.2)\n"
     ]
    }
   ],
   "source": [
    "!pip install folium"
   ]
  },
  {
   "cell_type": "code",
   "execution_count": 116,
   "id": "4cc5bf07-30ef-4729-ac6c-ff951b86d0bc",
   "metadata": {},
   "outputs": [
    {
     "name": "stdout",
     "output_type": "stream",
     "text": [
      "Requirement already satisfied: gpxpy in c:\\users\\yaroslav.golubev\\anaconda3\\lib\\site-packages (1.6.2)\n"
     ]
    }
   ],
   "source": [
    "!pip install gpxpy"
   ]
  },
  {
   "cell_type": "code",
   "execution_count": 117,
   "id": "79baa3d1-36bc-4264-b201-02e1c01589c9",
   "metadata": {},
   "outputs": [],
   "source": [
    "import folium \n",
    "import gpxpy\n",
    "import os"
   ]
  },
  {
   "cell_type": "code",
   "execution_count": 118,
   "id": "56210a47-c674-4c7c-b887-3cbbde2bdbfd",
   "metadata": {},
   "outputs": [],
   "source": [
    "m = folium.Map(location=[44.8001, 20.4466], zoom_start=11)"
   ]
  },
  {
   "cell_type": "code",
   "execution_count": 119,
   "id": "b452cb76-2883-4f45-b57b-f4490ddf9df8",
   "metadata": {},
   "outputs": [],
   "source": [
    "def overlayGPX(gpxData, map, color):\n",
    "    '''\n",
    "    overlay a gpx route on top of an OSM map using Folium\n",
    "    some portions of this function were adapted\n",
    "    from this post: https://stackoverflow.com/questions/54455657/\n",
    "    how-can-i-plot-a-map-using-latitude-and-longitude-data-in-python-highlight-few\n",
    "    '''\n",
    "    gpx_file = open(gpxData, 'r')\n",
    "    gpx = gpxpy.parse(gpx_file)\n",
    "    points = []\n",
    "    for track in gpx.tracks:\n",
    "        for segment in track.segments:        \n",
    "            for point in segment.points:\n",
    "                points.append(tuple([point.latitude, point.longitude]))\n",
    "    latitude = sum(p[0] for p in points)/len(points)\n",
    "    longitude = sum(p[1] for p in points)/len(points)\n",
    "    folium.PolyLine(points, color=color, weight=5, opacity=1).add_to(map)\n",
    "    #return (myMap)"
   ]
  },
  {
   "cell_type": "code",
   "execution_count": 120,
   "id": "0532062b-2cb4-436e-963d-e211568f1c80",
   "metadata": {},
   "outputs": [],
   "source": [
    "overlayGPX(\"trips/2023-07-08-Manastir-Slanci.gpx\", m, \"darkblue\")\n",
    "overlayGPX(\"trips/2024-05-05-Manastir-Rakovica.gpx\", m, \"darkblue\")\n",
    "\n",
    "overlayGPX(\"trips/2024-03-29-Dragova-greda.gpx\", m, \"darkred\")\n",
    "overlayGPX(\"trips/2024-03-30-Kovilovo.gpx\", m, \"darkred\")\n",
    "overlayGPX(\"trips/2024-04-06-Slanci-Vinča.gpx\", m, \"darkred\")\n",
    "overlayGPX(\"trips/2024-04-13-Manastir-Rakovica.gpx\", m, \"darkred\")\n",
    "overlayGPX(\"trips/2024-05-01-Ada.gpx\", m, \"darkred\")\n",
    "overlayGPX(\"trips/2024-05-04-Jakovo.gpx\", m, \"darkred\")\n",
    "overlayGPX(\"trips/2024-05-11-Manastiri-Svetog-Hristofora-i-Fenek.gpx\", m, \"darkred\")"
   ]
  },
  {
   "cell_type": "code",
   "execution_count": 121,
   "id": "5a065a1f-f38a-4476-9c69-898241b98a29",
   "metadata": {},
   "outputs": [],
   "source": [
    "tooltip = \"Click me!\"\n",
    "color_travel = \"green\"\n",
    "icon_travel = \"home\"\n",
    "color_manastir = \"orange\"\n",
    "icon_manastir = \"flag\""
   ]
  },
  {
   "cell_type": "code",
   "execution_count": 122,
   "id": "89d64269-1335-4cb0-8f73-76756d32e928",
   "metadata": {},
   "outputs": [
    {
     "data": {
      "text/plain": [
       "<folium.map.Marker at 0x1fbc97d9950>"
      ]
     },
     "execution_count": 122,
     "metadata": {},
     "output_type": "execute_result"
    }
   ],
   "source": [
    "folium.Marker(\n",
    "    [44.808512, 20.571532], \n",
    "    popup=\"<b>Slanci</b><br>July, 2023\", \n",
    "    tooltip=tooltip, \n",
    "    icon=folium.Icon(color=color_travel, icon=icon_travel)\n",
    ").add_to(m)\n",
    "\n",
    "folium.Marker(\n",
    "    [44.908259, 20.422440], \n",
    "    popup=\"<b>Kovilovo</b><br>March, 2024\", \n",
    "    tooltip=tooltip, \n",
    "    icon=folium.Icon(color=color_travel, icon=icon_travel)\n",
    ").add_to(m)\n",
    "\n",
    "folium.Marker(\n",
    "    [44.875382, 20.450733], \n",
    "    popup=\"<b>Borča</b><br>March, 2024\", \n",
    "    tooltip=tooltip, \n",
    "    icon=folium.Icon(color=color_travel, icon=icon_travel)\n",
    ").add_to(m)\n",
    "\n",
    "folium.Marker(\n",
    "    [44.810701, 20.597885], \n",
    "    popup=\"<b>Veliko Selo</b><br>April, 2024\", \n",
    "    tooltip=tooltip, \n",
    "    icon=folium.Icon(color=color_travel, icon=icon_travel)\n",
    ").add_to(m)\n",
    "\n",
    "folium.Marker(\n",
    "    [44.762125, 20.623390], \n",
    "    popup=\"<b>Vinča</b><br>April, 2024\", \n",
    "    tooltip=tooltip, \n",
    "    icon=folium.Icon(color=color_travel, icon=icon_travel)\n",
    ").add_to(m)\n",
    "\n",
    "folium.Marker(\n",
    "    [44.731436, 20.575265], \n",
    "    popup=\"<b>Leštane</b><br>April, 2024\", \n",
    "    tooltip=tooltip, \n",
    "    icon=folium.Icon(color=color_travel, icon=icon_travel)\n",
    ").add_to(m)\n",
    "\n",
    "folium.Marker(\n",
    "    [44.724542, 20.375547], \n",
    "    popup=\"<b>Železnik</b><br>April, 2024\", \n",
    "    tooltip=tooltip, \n",
    "    icon=folium.Icon(color=color_travel, icon=icon_travel)\n",
    ").add_to(m)\n",
    "\n",
    "folium.Marker(\n",
    "    [44.754102, 20.260131], \n",
    "    popup=\"<b>Jakovo</b><br>May, 2024\", \n",
    "    tooltip=tooltip, \n",
    "    icon=folium.Icon(color=color_travel, icon=icon_travel)\n",
    ").add_to(m)\n",
    "\n",
    "folium.Marker(\n",
    "    [44.790994, 20.270136], \n",
    "    popup=\"<b>Surčin</b><br>May, 2024\", \n",
    "    tooltip=tooltip, \n",
    "    icon=folium.Icon(color=color_travel, icon=icon_travel)\n",
    ").add_to(m)\n",
    "\n",
    "folium.Marker(\n",
    "    [44.730052, 20.317110], \n",
    "    popup=\"<b>Ostružnica</b><br>May, 2024\", \n",
    "    tooltip=tooltip, \n",
    "    icon=folium.Icon(color=color_travel, icon=icon_travel)\n",
    ").add_to(m)\n",
    "\n",
    "folium.Marker(\n",
    "    [44.678686, 20.304759], \n",
    "    popup=\"<b>Umka</b><br>May, 2024\", \n",
    "    tooltip=tooltip, \n",
    "    icon=folium.Icon(color=color_travel, icon=icon_travel)\n",
    ").add_to(m)\n",
    "\n",
    "folium.Marker(\n",
    "    [44.660864, 20.310115], \n",
    "    popup=\"<b>Rucka</b><br>May, 2024\", \n",
    "    tooltip=tooltip, \n",
    "    icon=folium.Icon(color=color_travel, icon=icon_travel)\n",
    ").add_to(m)\n",
    "\n",
    "folium.Marker(\n",
    "    [44.652332, 20.260206], \n",
    "    popup=\"<b>Barič</b><br>May, 2024\", \n",
    "    tooltip=tooltip, \n",
    "    icon=folium.Icon(color=color_travel, icon=icon_travel)\n",
    ").add_to(m)\n",
    "\n",
    "folium.Marker(\n",
    "    [44.678620, 20.202372], \n",
    "    popup=\"<b>Zabrežje</b><br>May, 2024\", \n",
    "    tooltip=tooltip, \n",
    "    icon=folium.Icon(color=color_travel, icon=icon_travel)\n",
    ").add_to(m)\n",
    "\n",
    "folium.Marker(\n",
    "    [44.722294, 20.228663], \n",
    "    popup=\"<b>Boljevci</b><br>May, 2024\", \n",
    "    tooltip=tooltip, \n",
    "    icon=folium.Icon(color=color_travel, icon=icon_travel)\n",
    ").add_to(m)"
   ]
  },
  {
   "cell_type": "code",
   "execution_count": 123,
   "id": "38c0cb40-10d4-4ccb-8260-340acf150872",
   "metadata": {},
   "outputs": [
    {
     "data": {
      "text/plain": [
       "<folium.map.Marker at 0x1fbc96163d0>"
      ]
     },
     "execution_count": 123,
     "metadata": {},
     "output_type": "execute_result"
    }
   ],
   "source": [
    "folium.Marker(\n",
    "    [44.795907, 20.584343], \n",
    "    popup=\"<b>Manastir Arhiđakona Stefana</b><br>July, 2023\", \n",
    "    tooltip=tooltip, \n",
    "    icon=folium.Icon(color=color_manastir, icon=icon_manastir)\n",
    ").add_to(m)\n",
    "\n",
    "folium.Marker(\n",
    "    [44.777055, 20.609738], \n",
    "    popup=\"<b>Manastir Vinča (skoro u izgradnji)</b><br>April, 2024\", \n",
    "    tooltip=tooltip, \n",
    "    icon=folium.Icon(color=color_manastir, icon=icon_manastir)\n",
    ").add_to(m)\n",
    "\n",
    "folium.Marker(\n",
    "    [44.733593, 20.551392], \n",
    "    popup=\"<b>Manastir Svetog Đorđa</b><br>April, 2024\", \n",
    "    tooltip=tooltip, \n",
    "    icon=folium.Icon(color=color_manastir, icon=icon_manastir)\n",
    ").add_to(m)\n",
    "\n",
    "folium.Marker(\n",
    "    [44.730610, 20.447130], \n",
    "    popup=\"<b>Manastir Rakovica</b><br>April, 2024\", \n",
    "    tooltip=tooltip, \n",
    "    icon=folium.Icon(color=color_manastir, icon=icon_manastir)\n",
    ").add_to(m)\n",
    "\n",
    "folium.Marker(\n",
    "    [44.641417, 20.240282], \n",
    "    popup=\"<b>Manastir Svetog Hristofora</b><br>May, 2024\", \n",
    "    tooltip=tooltip, \n",
    "    icon=folium.Icon(color=color_manastir, icon=icon_manastir)\n",
    ").add_to(m)\n",
    "\n",
    "folium.Marker(\n",
    "    [44.739699, 20.224508], \n",
    "    popup=\"<b>Manastir Fenek</b><br>May, 2024\", \n",
    "    tooltip=tooltip, \n",
    "    icon=folium.Icon(color=color_manastir, icon=icon_manastir)\n",
    ").add_to(m)"
   ]
  },
  {
   "cell_type": "code",
   "execution_count": 124,
   "id": "e9faf578-36f8-456d-b706-63f64da7a316",
   "metadata": {},
   "outputs": [],
   "source": [
    "m.save(\"beograd.html\")"
   ]
  },
  {
   "cell_type": "code",
   "execution_count": null,
   "id": "3a26d647-c1e4-4c91-822c-41b118c95ba9",
   "metadata": {},
   "outputs": [],
   "source": []
  }
 ],
 "metadata": {
  "kernelspec": {
   "display_name": "Python 3 (ipykernel)",
   "language": "python",
   "name": "python3"
  },
  "language_info": {
   "codemirror_mode": {
    "name": "ipython",
    "version": 3
   },
   "file_extension": ".py",
   "mimetype": "text/x-python",
   "name": "python",
   "nbconvert_exporter": "python",
   "pygments_lexer": "ipython3",
   "version": "3.11.7"
  }
 },
 "nbformat": 4,
 "nbformat_minor": 5
}
